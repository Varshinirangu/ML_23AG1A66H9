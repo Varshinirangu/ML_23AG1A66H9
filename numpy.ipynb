{
  "nbformat": 4,
  "nbformat_minor": 0,
  "metadata": {
    "colab": {
      "provenance": []
    },
    "kernelspec": {
      "name": "python3",
      "display_name": "Python 3"
    },
    "language_info": {
      "name": "python"
    }
  },
  "cells": [
    {
      "cell_type": "markdown",
      "source": [
        "Import NumPy in Python"
      ],
      "metadata": {
        "id": "Ayce3-NKP79l"
      }
    },
    {
      "cell_type": "code",
      "execution_count": 3,
      "metadata": {
        "id": "YGXo-aTODh49"
      },
      "outputs": [],
      "source": [
        "import numpy as np"
      ]
    },
    {
      "cell_type": "markdown",
      "source": [
        "NumPy Array Creation"
      ],
      "metadata": {
        "id": "-vkgUGu1QCKX"
      }
    },
    {
      "cell_type": "code",
      "source": [
        "arr1 = np.array([1, 2, 3, 4, 5])\n",
        "print(arr1)"
      ],
      "metadata": {
        "colab": {
          "base_uri": "https://localhost:8080/"
        },
        "id": "5sPcPzFjH0RA",
        "outputId": "2b402162-c3cd-4bd2-8dc8-45963c680352"
      },
      "execution_count": 12,
      "outputs": [
        {
          "output_type": "stream",
          "name": "stdout",
          "text": [
            "[1 2 3 4 5]\n"
          ]
        }
      ]
    },
    {
      "cell_type": "code",
      "source": [
        "arr2 = np.array([[1, 2, 3, 4, 5],[5 ,4 ,3 ,2 ,1]])\n",
        "print(arr2)"
      ],
      "metadata": {
        "colab": {
          "base_uri": "https://localhost:8080/"
        },
        "id": "NuIPh6LmIVGi",
        "outputId": "03824caa-590d-4814-d19a-30e5051517ef"
      },
      "execution_count": 13,
      "outputs": [
        {
          "output_type": "stream",
          "name": "stdout",
          "text": [
            "[[1 2 3 4 5]\n",
            " [5 4 3 2 1]]\n"
          ]
        }
      ]
    },
    {
      "cell_type": "code",
      "source": [
        "arr3 = np.array([[[1, 2, 3, 4, 5],[5 ,4 ,3 ,2 ,1],[2 ,3 ,1 ,4 ,5]],\n",
        "[[1, 2, 3, 4, 5],[5 ,4 ,3 ,2 ,1],[2 ,3 ,1 ,4 ,5]]])\n",
        "print(arr3)"
      ],
      "metadata": {
        "colab": {
          "base_uri": "https://localhost:8080/"
        },
        "id": "er-KgM4oI5Bb",
        "outputId": "74dd1526-cdcd-4028-fc08-2bb58a178de0"
      },
      "execution_count": 14,
      "outputs": [
        {
          "output_type": "stream",
          "name": "stdout",
          "text": [
            "[[[1 2 3 4 5]\n",
            "  [5 4 3 2 1]\n",
            "  [2 3 1 4 5]]\n",
            "\n",
            " [[1 2 3 4 5]\n",
            "  [5 4 3 2 1]\n",
            "  [2 3 1 4 5]]]\n"
          ]
        }
      ]
    },
    {
      "cell_type": "markdown",
      "source": [
        "Check dimensions of an Numpy Array"
      ],
      "metadata": {
        "id": "HPG-R5-XQI9C"
      }
    },
    {
      "cell_type": "code",
      "source": [
        "print(arr1.ndim)\n",
        "print(arr2.ndim)\n",
        "print(arr3.ndim)"
      ],
      "metadata": {
        "colab": {
          "base_uri": "https://localhost:8080/"
        },
        "id": "p_ATcohbJORG",
        "outputId": "9761d71e-46ac-4ba5-c4b1-f2a2439bc03c"
      },
      "execution_count": 16,
      "outputs": [
        {
          "output_type": "stream",
          "name": "stdout",
          "text": [
            "1\n",
            "2\n",
            "3\n"
          ]
        }
      ]
    },
    {
      "cell_type": "markdown",
      "source": [
        "NumPy Array shape Attribute"
      ],
      "metadata": {
        "id": "juDpyEHCQJ2j"
      }
    },
    {
      "cell_type": "code",
      "source": [
        "print(arr1.shape)\n",
        "print(arr2.shape)\n",
        "print(arr3.shape)"
      ],
      "metadata": {
        "colab": {
          "base_uri": "https://localhost:8080/"
        },
        "id": "dB90SbO6Ki_A",
        "outputId": "8daadd02-0767-4146-bb5e-b2c24b069fbb"
      },
      "execution_count": 17,
      "outputs": [
        {
          "output_type": "stream",
          "name": "stdout",
          "text": [
            "(5,)\n",
            "(2, 5)\n",
            "(2, 3, 5)\n"
          ]
        }
      ]
    },
    {
      "cell_type": "markdown",
      "source": [
        "Check Data Type of a NumPy Array"
      ],
      "metadata": {
        "id": "PERT4oU9QQ9S"
      }
    },
    {
      "cell_type": "code",
      "source": [
        "print(arr1.dtype)\n",
        "print(arr2.dtype)\n",
        "print(arr3.dtype)"
      ],
      "metadata": {
        "colab": {
          "base_uri": "https://localhost:8080/"
        },
        "id": "VBH81IelK_Or",
        "outputId": "e1101f03-67fb-464d-ab07-f919f3266397"
      },
      "execution_count": 18,
      "outputs": [
        {
          "output_type": "stream",
          "name": "stdout",
          "text": [
            "int64\n",
            "int64\n",
            "int64\n"
          ]
        }
      ]
    },
    {
      "cell_type": "markdown",
      "source": [
        "Check Size of Numpy array"
      ],
      "metadata": {
        "id": "VXNqqoT-QTq6"
      }
    },
    {
      "cell_type": "code",
      "source": [
        "print(arr1.size)\n",
        "print(arr2.size)\n",
        "print(arr3.size)"
      ],
      "metadata": {
        "colab": {
          "base_uri": "https://localhost:8080/"
        },
        "id": "inUGeR9VLewj",
        "outputId": "354451b7-bac9-45a2-a946-db1fd8b8beba"
      },
      "execution_count": 19,
      "outputs": [
        {
          "output_type": "stream",
          "name": "stdout",
          "text": [
            "5\n",
            "10\n",
            "30\n"
          ]
        }
      ]
    },
    {
      "cell_type": "markdown",
      "source": [
        "NumPy Array itemsize Attribute"
      ],
      "metadata": {
        "id": "D1eXwDQNQc6X"
      }
    },
    {
      "cell_type": "code",
      "source": [
        "print(arr1.itemsize)\n",
        "print(arr2.itemsize)\n",
        "print(arr3.itemsize)"
      ],
      "metadata": {
        "colab": {
          "base_uri": "https://localhost:8080/"
        },
        "id": "zYHwBkm9Lyv_",
        "outputId": "ffd220b3-6f60-4570-fd7f-05e055fc74da"
      },
      "execution_count": 20,
      "outputs": [
        {
          "output_type": "stream",
          "name": "stdout",
          "text": [
            "8\n",
            "8\n",
            "8\n"
          ]
        }
      ]
    },
    {
      "cell_type": "markdown",
      "source": [
        "Check Data Type of a NumPy Array"
      ],
      "metadata": {
        "id": "2cBAm4HnQg15"
      }
    },
    {
      "cell_type": "code",
      "source": [
        "print(arr1.data)\n",
        "print(arr2.data)\n",
        "print(arr3.data)"
      ],
      "metadata": {
        "colab": {
          "base_uri": "https://localhost:8080/"
        },
        "id": "G3UsJI_RMtl4",
        "outputId": "a767aec5-6b00-4e2c-d3a7-2d3ee3526405"
      },
      "execution_count": 21,
      "outputs": [
        {
          "output_type": "stream",
          "name": "stdout",
          "text": [
            "<memory at 0x7cefd2ee9900>\n",
            "<memory at 0x7cef9fb24c70>\n",
            "<memory at 0x7cef9fbf56c0>\n"
          ]
        }
      ]
    },
    {
      "cell_type": "markdown",
      "source": [
        "Access Array Elements Using Index"
      ],
      "metadata": {
        "id": "-aPFuv2uQouV"
      }
    },
    {
      "cell_type": "code",
      "source": [
        "array1 = np.array([1, 3, 5, 7, 9])\n",
        "print(array1[0])\n",
        "print(array1[2])\n",
        "print(array1[4])"
      ],
      "metadata": {
        "colab": {
          "base_uri": "https://localhost:8080/"
        },
        "id": "cFh9DehJObhE",
        "outputId": "cc35b6c1-5184-4fe3-eeb2-59d197dd3fe0"
      },
      "execution_count": 23,
      "outputs": [
        {
          "output_type": "stream",
          "name": "stdout",
          "text": [
            "1\n",
            "5\n",
            "9\n"
          ]
        }
      ]
    },
    {
      "cell_type": "markdown",
      "source": [
        "Modify Array Elements Using Index"
      ],
      "metadata": {
        "id": "pBqViCvBRAP3"
      }
    },
    {
      "cell_type": "code",
      "source": [
        "array1[1]=10\n",
        "print(array1)"
      ],
      "metadata": {
        "colab": {
          "base_uri": "https://localhost:8080/"
        },
        "id": "i8oyPQgmOoCX",
        "outputId": "f838f209-3e19-44d8-9940-a2a6a745787b"
      },
      "execution_count": 24,
      "outputs": [
        {
          "output_type": "stream",
          "name": "stdout",
          "text": [
            "[ 1 10  5  7  9]\n"
          ]
        }
      ]
    },
    {
      "cell_type": "markdown",
      "source": [
        "2-D NumPy Array Indexing"
      ],
      "metadata": {
        "id": "inkG2654RFd-"
      }
    },
    {
      "cell_type": "code",
      "source": [
        "array1 = np.array([[1, 3, 5, 7],\n",
        "                       [9, 11, 13, 15],\n",
        "                       [2, 4, 6, 8]])\n",
        "element1 = array1[1, 3]\n",
        "print(\"4th Element at 2nd Row:\",element1)\n",
        "element2 = array1[0, 1]\n",
        "print(\"2nd Element at First Row:\",element2)"
      ],
      "metadata": {
        "colab": {
          "base_uri": "https://localhost:8080/"
        },
        "id": "E-_QWcISOv7T",
        "outputId": "4955966c-3172-4e4d-ad7a-f0f867861567"
      },
      "execution_count": 25,
      "outputs": [
        {
          "output_type": "stream",
          "name": "stdout",
          "text": [
            "4th Element at 2nd Row: 15\n",
            "2nd Element at First Row: 3\n"
          ]
        }
      ]
    },
    {
      "cell_type": "markdown",
      "source": [
        "NumPy Statistical Functions"
      ],
      "metadata": {
        "id": "oceyxZhcRIS8"
      }
    },
    {
      "cell_type": "code",
      "source": [
        "array1 = np.array([1, 2, 3, 4, 5])\n",
        "median = np.median(array1)\n",
        "print(median)"
      ],
      "metadata": {
        "colab": {
          "base_uri": "https://localhost:8080/"
        },
        "id": "RvLR3o1yO6sj",
        "outputId": "def3660e-4478-42bc-a73b-e69923f3580c"
      },
      "execution_count": 26,
      "outputs": [
        {
          "output_type": "stream",
          "name": "stdout",
          "text": [
            "3.0\n"
          ]
        }
      ]
    },
    {
      "cell_type": "markdown",
      "source": [
        "Compute Mean Using NumPy"
      ],
      "metadata": {
        "id": "gxkRY9oKRLgc"
      }
    },
    {
      "cell_type": "code",
      "source": [
        "marks = np.array([76, 78, 81, 66, 85])\n",
        "mean_marks = np.mean(marks)\n",
        "print(mean_marks)"
      ],
      "metadata": {
        "colab": {
          "base_uri": "https://localhost:8080/"
        },
        "id": "UdGw3ZITPErb",
        "outputId": "3a50c8b2-3c0d-40bb-fa37-b34453e6e94e"
      },
      "execution_count": 27,
      "outputs": [
        {
          "output_type": "stream",
          "name": "stdout",
          "text": [
            "77.2\n"
          ]
        }
      ]
    },
    {
      "cell_type": "markdown",
      "source": [
        "Standard Deviation of NumPy Array"
      ],
      "metadata": {
        "id": "EATAjBuoRQ1D"
      }
    },
    {
      "cell_type": "code",
      "source": [
        "marks = np.array([76, 78, 81, 66, 85])\n",
        "std_marks = np.std(marks)\n",
        "print(std_marks)"
      ],
      "metadata": {
        "colab": {
          "base_uri": "https://localhost:8080/"
        },
        "id": "vy-VM1whPLpB",
        "outputId": "17cf86bc-21a5-4afb-da9a-71d733db7901"
      },
      "execution_count": 28,
      "outputs": [
        {
          "output_type": "stream",
          "name": "stdout",
          "text": [
            "6.368673331236263\n"
          ]
        }
      ]
    },
    {
      "cell_type": "markdown",
      "source": [
        "Numpy Percentile"
      ],
      "metadata": {
        "id": "fFeJ7VBDRUjH"
      }
    },
    {
      "cell_type": "code",
      "source": [
        "marks = np.array([76, 78, 81, 66, 85])\n",
        "std_marks = np.percentile(marks,50)\n",
        "print(std_marks)"
      ],
      "metadata": {
        "colab": {
          "base_uri": "https://localhost:8080/"
        },
        "id": "MPnN7P8JPS32",
        "outputId": "eb4f88cf-589a-4495-a758-7f04ac809ecb"
      },
      "execution_count": 29,
      "outputs": [
        {
          "output_type": "stream",
          "name": "stdout",
          "text": [
            "78.0\n"
          ]
        }
      ]
    },
    {
      "cell_type": "markdown",
      "source": [
        "Numpy min"
      ],
      "metadata": {
        "id": "hfFMflj_RYqH"
      }
    },
    {
      "cell_type": "code",
      "source": [
        "marks = np.array([76, 78, 81, 66, 85])\n",
        "std_marks = np.min(marks)\n",
        "print(std_marks)"
      ],
      "metadata": {
        "colab": {
          "base_uri": "https://localhost:8080/"
        },
        "id": "f23IzropPiFi",
        "outputId": "bf2e0a8e-a436-412f-e424-8818e9624030"
      },
      "execution_count": 30,
      "outputs": [
        {
          "output_type": "stream",
          "name": "stdout",
          "text": [
            "66\n"
          ]
        }
      ]
    },
    {
      "cell_type": "markdown",
      "source": [
        "Numpy max"
      ],
      "metadata": {
        "id": "Oy9iif5KRaYO"
      }
    },
    {
      "cell_type": "code",
      "source": [
        "marks = np.array([76, 78, 81, 66, 85])\n",
        "std_marks = np.max(marks)\n",
        "print(std_marks)"
      ],
      "metadata": {
        "colab": {
          "base_uri": "https://localhost:8080/"
        },
        "id": "2xDoRsxDPp-_",
        "outputId": "65473796-27da-41f3-ba90-5034ce7a8f46"
      },
      "execution_count": 31,
      "outputs": [
        {
          "output_type": "stream",
          "name": "stdout",
          "text": [
            "85\n"
          ]
        }
      ]
    }
  ]
}
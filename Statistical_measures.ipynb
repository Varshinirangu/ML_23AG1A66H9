{
  "nbformat": 4,
  "nbformat_minor": 0,
  "metadata": {
    "colab": {
      "provenance": [],
      "authorship_tag": "ABX9TyM4TC3+7jVCInuSQ3dqXXJe",
      "include_colab_link": true
    },
    "kernelspec": {
      "name": "python3",
      "display_name": "Python 3"
    },
    "language_info": {
      "name": "python"
    }
  },
  "cells": [
    {
      "cell_type": "markdown",
      "metadata": {
        "id": "view-in-github",
        "colab_type": "text"
      },
      "source": [
        "<a href=\"https://colab.research.google.com/github/Varshinirangu/ML_23AG1A66H9/blob/main/Statistical_measures.ipynb\" target=\"_parent\"><img src=\"https://colab.research.google.com/assets/colab-badge.svg\" alt=\"Open In Colab\"/></a>"
      ]
    },
    {
      "cell_type": "markdown",
      "source": [
        "Statistical measures-Central Tendency Measures"
      ],
      "metadata": {
        "id": "wAKicK5nK2IP"
      }
    },
    {
      "cell_type": "code",
      "execution_count": 5,
      "metadata": {
        "colab": {
          "base_uri": "https://localhost:8080/"
        },
        "id": "aXWDj7Q1FGRd",
        "outputId": "d7e947d3-0cc9-4960-b75d-834f64d5fcb8"
      },
      "outputs": [
        {
          "output_type": "stream",
          "name": "stdout",
          "text": [
            "Mean: 5\n",
            "Median: 4.5\n",
            "Mode: 4\n",
            "Variance: 4.0\n",
            "Standard Deviation: 2.0\n"
          ]
        }
      ],
      "source": [
        "import numpy as np\n",
        "from statistics import mean, median, mode\n",
        "\n",
        "#Example data\n",
        "data = [2, 4, 4, 4, 5, 5, 7, 9]\n",
        "\n",
        "#Central Tendency Meaasures\n",
        "print(\"Mean:\", mean(data))           # Mean\n",
        "print(\"Median:\", median(data))       # median\n",
        "print(\"Mode:\", mode(data))            # mode\n",
        "\n",
        "#Measures of Dispersion\n",
        "print(\"Variance:\", np.var(data))             # variance (Population)\n",
        "print(\"Standard Deviation:\", np.std(data))    # Standard Deviation(Population)"
      ]
    },
    {
      "cell_type": "markdown",
      "source": [
        "Math library\n",
        "1.Number Function"
      ],
      "metadata": {
        "id": "M_Pon_EQNYii"
      }
    },
    {
      "cell_type": "code",
      "source": [
        "import math\n",
        "print(math.ceil(2.3))\n",
        "print(math.floor(2.7))\n",
        "print(math.trunc(8.9))"
      ],
      "metadata": {
        "colab": {
          "base_uri": "https://localhost:8080/"
        },
        "id": "aGNvjRh8Oagp",
        "outputId": "118f00af-1615-40a6-f61b-338c2526317a"
      },
      "execution_count": 6,
      "outputs": [
        {
          "output_type": "stream",
          "name": "stdout",
          "text": [
            "3\n",
            "2\n",
            "8\n"
          ]
        }
      ]
    },
    {
      "cell_type": "markdown",
      "source": [
        "2.Power and Logarithmic Functions"
      ],
      "metadata": {
        "id": "0oaSc0MBPB0E"
      }
    },
    {
      "cell_type": "code",
      "source": [
        "print(math.pow(2,3))\n",
        "print(math.sqrt(16))\n",
        "print(math.exp(2))\n",
        "print(math.log(100,10))"
      ],
      "metadata": {
        "colab": {
          "base_uri": "https://localhost:8080/"
        },
        "id": "bGEBlOhFPfCQ",
        "outputId": "779b8ab7-cb83-426e-d53f-b03a484743fb"
      },
      "execution_count": 7,
      "outputs": [
        {
          "output_type": "stream",
          "name": "stdout",
          "text": [
            "8.0\n",
            "4.0\n",
            "7.38905609893065\n",
            "2.0\n"
          ]
        }
      ]
    },
    {
      "cell_type": "markdown",
      "source": [
        "3.Trigonometric Functions"
      ],
      "metadata": {
        "id": "9UyB3dfYP_aO"
      }
    },
    {
      "cell_type": "code",
      "source": [
        "print(math.sin(math.pi/2))\n",
        "print(math.cos(0))\n",
        "print(math.tan(math.pi/4))\n",
        "\n",
        "print(math.radians(90))\n",
        "\n",
        "print(math.degrees(math.pi))"
      ],
      "metadata": {
        "colab": {
          "base_uri": "https://localhost:8080/"
        },
        "id": "G6n4p938QJbQ",
        "outputId": "9fc16f69-2357-498e-ffea-c2fed76fcdfc"
      },
      "execution_count": 8,
      "outputs": [
        {
          "output_type": "stream",
          "name": "stdout",
          "text": [
            "1.0\n",
            "1.0\n",
            "0.9999999999999999\n",
            "1.5707963267948966\n",
            "180.0\n"
          ]
        }
      ]
    },
    {
      "cell_type": "markdown",
      "source": [
        "4.Special Functions"
      ],
      "metadata": {
        "id": "4pi_sRYAQuQ1"
      }
    },
    {
      "cell_type": "code",
      "source": [
        "print(math.factorial(5))\n",
        "print(math.gcd(28, 8))\n",
        "print(math.fabs(-7.5))"
      ],
      "metadata": {
        "colab": {
          "base_uri": "https://localhost:8080/"
        },
        "id": "sGXo4X2DQzn_",
        "outputId": "30007a07-0fbc-4d7a-b621-1a4b91e188eb"
      },
      "execution_count": 10,
      "outputs": [
        {
          "output_type": "stream",
          "name": "stdout",
          "text": [
            "120\n",
            "4\n",
            "7.5\n"
          ]
        }
      ]
    },
    {
      "cell_type": "markdown",
      "source": [
        "5.Constants"
      ],
      "metadata": {
        "id": "T_fv9dMcRMgC"
      }
    },
    {
      "cell_type": "code",
      "source": [
        "print(math.pi)\n",
        "print(math.e)"
      ],
      "metadata": {
        "colab": {
          "base_uri": "https://localhost:8080/"
        },
        "id": "Gm0EkEyYRB1N",
        "outputId": "1d6cd713-710c-409d-ef2c-409d8e2b8bd1"
      },
      "execution_count": 11,
      "outputs": [
        {
          "output_type": "stream",
          "name": "stdout",
          "text": [
            "3.141592653589793\n",
            "2.718281828459045\n"
          ]
        }
      ]
    }
  ]
}